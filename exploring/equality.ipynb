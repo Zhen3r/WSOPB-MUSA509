{
 "cells": [
  {
   "cell_type": "code",
   "execution_count": 5,
   "metadata": {},
   "outputs": [],
   "source": [
    "! conda list -e > ../env.yaml"
   ]
  },
  {
   "cell_type": "code",
   "execution_count": 99,
   "metadata": {},
   "outputs": [],
   "source": [
    "import pandas as pd\n",
    "import cenpy\n",
    "import geopandas as gpd\n",
    "\n",
    "pd.set_option('display.max_rows', None)"
   ]
  },
  {
   "cell_type": "code",
   "execution_count": 84,
   "metadata": {},
   "outputs": [],
   "source": [
    "acsVarDict = {\n",
    "    'B02001_001E': 'Total population',\n",
    "    'B02001_002E': 'White',\n",
    "    'B02001_003E': 'Black or African American',\n",
    "    'B02001_004E': 'American Indian and Alaska Native',\n",
    "    'B02001_005E': 'Asian',\n",
    "    'B02001_006E': 'Native Hawaiian and Other Pacific Islander',\n",
    "    'B06011_001E': 'Median income'}\n",
    "acsVars = [\"NAME\"]+list(acsVarDict.keys())"
   ]
  },
  {
   "cell_type": "code",
   "execution_count": 113,
   "metadata": {},
   "outputs": [],
   "source": [
    "conn = cenpy.remote.APIConnection(\"ACSDT5Y2019\")\n",
    "acsDataBlockGroup = conn.query(acsVars, geo_unit = 'block group', geo_filter = {\"state\": \"42\",\"county\": \"101\"})\n",
    "acsDataTract = conn.query(acsVars, geo_unit = 'tract', geo_filter = {\"state\": \"42\",\"county\": \"101\"})"
   ]
  },
  {
   "cell_type": "code",
   "execution_count": 96,
   "metadata": {},
   "outputs": [
    {
     "data": {
      "text/plain": [
       "Connection to American Community Survey: 5-Year Estimates: Detailed Tables 5-Year(ID: https://api.census.gov/data/id/ACSDT5Y2019)\n",
       "With MapServer: Census ACS 2019 WMS"
      ]
     },
     "execution_count": 96,
     "metadata": {},
     "output_type": "execute_result"
    }
   ],
   "source": [
    "conn.set_mapservice(\"tigerWMS_ACS2019\")"
   ]
  },
  {
   "cell_type": "code",
   "execution_count": 106,
   "metadata": {},
   "outputs": [
    {
     "name": "stderr",
     "output_type": "stream",
     "text": [
      "/Users/zh3n/opt/miniconda3/envs/final-proj-509/lib/python3.8/site-packages/pyproj/crs/crs.py:131: FutureWarning: '+init=<authority>:<code>' syntax is deprecated. '<authority>:<code>' is the preferred initialization method. When making the change, be mindful of axis order changes: https://pyproj4.github.io/pyproj/stable/gotchas.html#axis-order-changes-in-proj-6\n",
      "  in_crs_string = _prepare_from_proj_string(in_crs_string)\n"
     ]
    }
   ],
   "source": [
    "whereClause = \"STATE = 42 AND COUNTY = 101\"\n",
    "phillyGeo = conn.mapservice.layers[10].query(where=whereClause)"
   ]
  },
  {
   "cell_type": "code",
   "execution_count": 107,
   "metadata": {},
   "outputs": [],
   "source": [
    "acsDataGeo = (phillyGeo\n",
    "               .merge(acsData,\n",
    "                  left_on=[\"STATE\", \"COUNTY\", \"TRACT\", \"BLKGRP\"],\n",
    "                  right_on=[\"state\", \"county\", \"tract\", \"block group\"],)\n",
    "               .rename(acsVarDict,axis=1))"
   ]
  },
  {
   "cell_type": "code",
   "execution_count": 111,
   "metadata": {},
   "outputs": [],
   "source": [
    "acsDataGeo = acsDataGeo[[\"GEOID\",'Total population', 'White', 'Black or African American',\n",
    "       'American Indian and Alaska Native', 'Asian',\n",
    "       'Native Hawaiian and Other Pacific Islander', 'Median income']].copy()"
   ]
  },
  {
   "cell_type": "code",
   "execution_count": 6,
   "metadata": {},
   "outputs": [
    {
     "ename": "NameError",
     "evalue": "name 'acsDataGeo' is not defined",
     "output_type": "error",
     "traceback": [
      "\u001b[0;31m---------------------------------------------------------------------------\u001b[0m",
      "\u001b[0;31mNameError\u001b[0m                                 Traceback (most recent call last)",
      "\u001b[0;32m/var/folders/j4/8g8c69z10w15rblr6nyzkbrc0000gn/T/ipykernel_44085/377148305.py\u001b[0m in \u001b[0;36m<module>\u001b[0;34m\u001b[0m\n\u001b[0;32m----> 1\u001b[0;31m \u001b[0macsDataGeo\u001b[0m\u001b[0;34m.\u001b[0m\u001b[0mhead\u001b[0m\u001b[0;34m(\u001b[0m\u001b[0;34m)\u001b[0m\u001b[0;34m\u001b[0m\u001b[0;34m\u001b[0m\u001b[0m\n\u001b[0m",
      "\u001b[0;31mNameError\u001b[0m: name 'acsDataGeo' is not defined"
     ]
    }
   ],
   "source": [
    "acsDataGeo.head()\n"
   ]
  }
 ],
 "metadata": {
  "interpreter": {
   "hash": "9326c408b6774eb6a5eabb870023d079802e0531014540fd4e26bb6071a5970a"
  },
  "kernelspec": {
   "display_name": "Python 3 (ipykernel)",
   "language": "python",
   "name": "python3"
  },
  "language_info": {
   "codemirror_mode": {
    "name": "ipython",
    "version": 3
   },
   "file_extension": ".py",
   "mimetype": "text/x-python",
   "name": "python",
   "nbconvert_exporter": "python",
   "pygments_lexer": "ipython3",
   "version": "3.8.12"
  }
 },
 "nbformat": 4,
 "nbformat_minor": 2
}
